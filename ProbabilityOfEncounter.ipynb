{
  "nbformat": 4,
  "nbformat_minor": 0,
  "metadata": {
    "colab": {
      "name": "ProbabilityOfEncounter.ipynb",
      "provenance": [],
      "collapsed_sections": [],
      "authorship_tag": "ABX9TyN0/xg2TeAnZEz0eXM6Iu8U",
      "include_colab_link": true
    },
    "kernelspec": {
      "name": "python3",
      "display_name": "Python 3"
    }
  },
  "cells": [
    {
      "cell_type": "markdown",
      "metadata": {
        "id": "view-in-github",
        "colab_type": "text"
      },
      "source": [
        "<a href=\"https://colab.research.google.com/github/oguzaltuntas/Probability/blob/master/ProbabilityOfEncounter.ipynb\" target=\"_parent\"><img src=\"https://colab.research.google.com/assets/colab-badge.svg\" alt=\"Open In Colab\"/></a>"
      ]
    },
    {
      "cell_type": "code",
      "metadata": {
        "id": "gFYDluQe2q3X",
        "colab_type": "code",
        "outputId": "72446478-a391-4d76-9c96-a5e9070fcc88",
        "colab": {
          "base_uri": "https://localhost:8080/",
          "height": 101
        }
      },
      "source": [
        "def factorialCalc(i): # permütasyon hesaplamanın temeli olan faktöriyel hesaplanması\n",
        "\n",
        "    if i==1 or i==0:       # bir veya 0 rakamının özel faktöriyeli sabit 1.\n",
        "        return 1\n",
        "    \n",
        "    else: \n",
        "        return i * factorialCalc(i-1)    # rekürsif\n",
        "\n",
        "def permutationCalc(j,k):       #permütasyon iterasyon basamağı\n",
        "    l = 0\n",
        "    \n",
        "    if k>j:        \n",
        "        l = l\n",
        "        \n",
        "    else:      \n",
        "        l = factorialCalc(j)/factorialCalc(j-k)   #faktöriyel kavramını çağırdığımız yer \n",
        "        return l\n",
        "def  combinationCalc(j, k):                      #kombinasyon için permütasyon ve faktöriyeli çağırıyorum\n",
        "    return permutationCalc(j, k) / factorialCalc(k)\n",
        "\n",
        "\n",
        "print(\"Olasılık hesabı için lütfen istenenleri giriniz.\")   \n",
        "numOfSampleSpace = int(input(\"Örnek uzay kaç kişi: \"))      # ilk olarak örnek uzay kaç kişi\n",
        "seePeople= int(input(\"Kaç kişiyi gördüm?: \"))              # Rast geldiğim kişi saysı\n",
        "usedToKnow = int(input(\"Kaç kişiyi tanıyorum?: \"))              # Tanıdığım kişi sayısı\n",
        "\n",
        "\n",
        "print(\"Sonuç:\", 1-float(combinationCalc(numOfSampleSpace -usedToKnow ,seePeople) / combinationCalc(numOfSampleSpace,seePeople) ))"
      ],
      "execution_count": 0,
      "outputs": [
        {
          "output_type": "stream",
          "text": [
            "Olasılık hesabı için lütfen istenenleri giriniz.\n",
            "Örnek uzay kaç kişi: 10\n",
            "Kaç kişiyi gördüm?: 6\n",
            "Kaç kişiyi tanıyorum?: 1\n",
            "Sonuç: 0.6\n"
          ],
          "name": "stdout"
        }
      ]
    },
    {
      "cell_type": "markdown",
      "metadata": {
        "id": "lBXspQDB2224",
        "colab_type": "text"
      },
      "source": [
        "**Olasılık Problem**\n",
        "\n",
        "Bir deneyde elede edilebilecek sonuçların tümüne olasılık diyoruz.\n",
        "Konuyu bir örnekle pekiştirelim.\n",
        "\n",
        "**Karşılaşma Problemi**\n",
        "\n",
        "Problem(Girdi) :Trabzon'nun Tonya ilçesine bağlı bir köyde 10 kişi yaşıyor olsun. Oğuz'un  bu ilçede  1 arkadaşı olduğunu varsaylım. Oğuz dışarı çıktığında toplamda 6 kişi ile karşılaşırsa. Karşılaştıklarından en az birinin arkadaşı olma ihtimali nedir ?\n",
        "\n",
        "Çözüm : Verilenler:\n",
        "p(Köyde  yaşayan toplam kişi sayısı)  = 10\n",
        "s(Karşılaştığı kişi sayısı) =6\n",
        "f(Toplam arkadaş sayısı) = 1\n",
        "\n",
        "\n",
        "p(arkadasOlma) =1 - C(p-f,s) /C(p,s)\n",
        "p(arkadas) = C(10-1,6)/ C(10,6)\n",
        " =1- (C(9,6) / C(10,6)\n",
        " =1 -(84/210)\n",
        " =1-0,4 \n",
        " =0,6\n",
        "\n",
        "Sonuç(Çıktı) : 0,6\n",
        "\n",
        "\n"
      ]
    }
  ]
}